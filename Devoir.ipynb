{
 "cells": [
  {
   "cell_type": "markdown",
   "metadata": {},
   "source": [
    "Projet Numérique \"Calcul différentiel\"\n",
    "\n",
    "Tanguy Aurousseau, Hugo de La Marlier"
   ]
  },
  {
   "cell_type": "code",
   "execution_count": 2,
   "metadata": {},
   "outputs": [],
   "source": [
    "# Importation des librairies\n",
    "import autograd\n",
    "import autograd.numpy as np\n",
    "import pandas as pd\n",
    "import numpy.linalg\n",
    "\n",
    "\n",
    "import matplotlib as mpl\n",
    "import matplotlib.pyplot as plt"
   ]
  },
  {
   "cell_type": "code",
   "execution_count": 3,
   "metadata": {},
   "outputs": [],
   "source": [
    "# Fonctions données par l'énoncé\n",
    "\n",
    "def grad(f):\n",
    "    g = autograd.grad\n",
    "    def grad_f(x, y):\n",
    "        return np.array([g(f, 0)(x, y), g(f, 1)(x, y)])\n",
    "    return grad_f\n",
    "\n",
    "def J(f):\n",
    "    j = autograd.jacobian\n",
    "    def J_f(x, y):\n",
    "        return np.array([j(f, 0)(x, y), j(f, 1)(x, y)]).T\n",
    "    return J_f\n",
    "\n",
    "def display_contour(f, x, y, levels):\n",
    "    X, Y = np.meshgrid(x, y)\n",
    "    Z = f(X, Y)\n",
    "    fig, ax = plt.subplots()\n",
    "    contour_set = plt.contour(\n",
    "        X, Y, Z, colors=\"grey\", linestyles=\"dashed\", \n",
    "        levels=levels \n",
    "    )\n",
    "    ax.clabel(contour_set)\n",
    "    plt.grid(True)\n",
    "    plt.xlabel(\"$x_1$\") \n",
    "    plt.ylabel(\"$x_2$\")\n",
    "    plt.gca().set_aspect(\"equal\")\n",
    "    \n",
    "def f1(x1, x2):\n",
    "    x1 = np.array(x1)\n",
    "    x2 = np.array(x2)\n",
    "    return 3.0 * x1 * x1 - 2.0 * x1 * x2 + 3.0 * x2 * x2 \n",
    "\n",
    "def f2(x1, x2):\n",
    "    return (x1 - 1)**2 + (x1 - x2**2)**2"
   ]
  },
  {
   "cell_type": "markdown",
   "metadata": {},
   "source": [
    "**Analyse des ensembles de niveau**\n",
    "==\n",
    "Question 1\n",
    "="
   ]
  },
  {
   "cell_type": "markdown",
   "metadata": {},
   "source": [
    "Montrons que l'ensemble de niveau c de f,  $f^{-1}(\\{c\\})$ pour $c \\in \\mathbb{R}$, est un fermé borné."
   ]
  },
  {
   "cell_type": "markdown",
   "metadata": {},
   "source": [
    "Le singleton $\\{c\\}$ est un fermé. Par continuité de f de $\\mathbb{R}^2$ dans $\\mathbb{R}$, on en déduit que son image réciproque donc l'ensemble de niveau $f^{-1}(\\{c\\})$ est un fermé de $\\mathbb{R}^2$.\n",
    "\n",
    "De plus, cet ensemble est borné. En effet :  \n",
    "Soit $c \\in \\mathbb{R}$.  \n",
    "On a $f(x_1, x_2) \\to +\\infty$ quand $\\|(x_1,x_2)\\| \\to +\\infty$ donc :  \n",
    "$\\forall A \\in \\mathbb{R}, \\exists M \\in \\mathbb{R}, \\|(x_1,x_2)\\| \\ge M \\Rightarrow f(x_1,x_2)\\gt A$  \n",
    "En particulier, il existe $l \\in \\mathbb{R}$ tel que :  \n",
    "$\\forall (x_1,x_2) \\in \\mathbb{R}^2, \\|(x_1,x_2)\\| \\ge l \\Rightarrow f(x_1,x_2)\\gt c$  \n",
    "Alors $f^{-1}(\\{c\\})$ est majorée (selon la norme euclidienne) par ce réel l : l'ensemble est borné.\n",
    "\n",
    "D'où $f^{-1}(\\{c\\})$ fermé et borné."
   ]
  },
  {
   "cell_type": "markdown",
   "metadata": {},
   "source": [
    "Question 2\n",
    "=="
   ]
  },
  {
   "cell_type": "markdown",
   "metadata": {},
   "source": [
    "Soit $x_0=(x_{10},x_{20}) \\in \\mathbb{R}^2$  \n",
    "\n",
    "\n",
    "$p(x_1, x_2) = \\frac{\\partial_2 f(x_0)}{\\|\\nabla f(x_0)\\|} (x_1 - x_{10}) -\n",
    "\\frac{\\partial_1 f(x_0)}{\\|\\nabla f(x_0)\\|} (x_2 - x_{20}) \n",
    "= < (x_1-x_0;x_2-x_0);(\\frac{\\partial_2 f(x_0)}{\\|\\nabla f(x_0)\\|};-\\frac{\\partial_1 f(x_0)}{\\|\\nabla f(x_0)\\|})> \n",
    "= <u,v>$  \n",
    "Avec $u=(x_1-x_0;x_2-x_0)$ et $v=(\\frac{\\partial_2 f(x_0)}{\\|\\nabla f(x_0)\\|};-\\frac{\\partial_1 f(x_0)}{\\|\\nabla f(x_0)\\|})$  \n",
    "On remarque que $v$ est obtenu après rotation du vecteur $grad(f)$ d'un angle $-\\frac{\\pi}{2}$.\n",
    "\n",
    "$p(x_1,x_2)$ s'interprète géométriquement comme le produit scalaire de u et v."
   ]
  },
  {
   "cell_type": "markdown",
   "metadata": {},
   "source": [
    "Question 3\n",
    "="
   ]
  },
  {
   "cell_type": "markdown",
   "metadata": {},
   "source": [
    "Soit V un voisinage ouvert de $x_0$ tel que $V\\subset\\mathbb{R}^2$\n",
    "On pose g de $V \\times \\mathbb{R}$ dans $\\mathbb{R}^2$ avec $g(x,t)=(f(x)-c,p(x)-t)$\n",
    "\n",
    "Comme f est continûment différentiable, g l'est aussi par définition.\n",
    "\n",
    "$\\partial_x g(x,t) = \\begin{pmatrix} \\partial_1f(x) & \\partial_2f(x)\n",
    "\\\\ + \\frac {\\partial_2 f(x_0)}{\\|\\nabla f(x_0)\\|} & -\\frac {\\partial_1 f(x_0)}{\\|\\nabla f(x_0)\\|} \\end{pmatrix}$\n",
    "\n",
    "$\\Delta = - \\frac{1}{\\|\\nabla f(x_0)\\|} (\\partial_1 f(x) . \\partial_1 f(x_0) + \\partial_2 f(x) . \\partial_2 f(x_0)) \\neq 0$  \n",
    "Car $\\nabla f$ ne s'annule pas sur V.  \n",
    "\n",
    "Comme $\\forall t \\in \\mathbb{R}, g(x_0,t)=(0,0)$ il existe une fonction\n",
    "$\\gamma$ de $]-\\epsilon;\\epsilon[$ dans $\\mathbb{R}^2$ continûment différentiable telle que :  \n",
    "$\\forall x \\in V$ : $f(x_1,x_2)=c$ si et seulement si $(x_1,x_2)=\\gamma (t)$ où $t=p(x_1,x_2)$  \n",
    "d'après le théorème des fonctions implicites."
   ]
  },
  {
   "cell_type": "markdown",
   "metadata": {},
   "source": [
    "Question 4\n",
    "="
   ]
  },
  {
   "cell_type": "markdown",
   "metadata": {},
   "source": [
    "Toujours par le théorème des fonctions implicites, on a :  \n",
    "$\\forall t \\in ]-\\epsilon;\\epsilon[, \\gamma'(t)=-(\\partial_x g(x,t))^{-1}.\\partial_t f(x,t)$  \n",
    "\n",
    "Or,  \n",
    "$\\partial_t f(x,t) = \\begin{pmatrix} 0 \\\\ -1 \\end{pmatrix}$\n",
    "\n",
    "$\\partial_x g(x,t))^{-1}=\\frac{1}{\\Delta} \n",
    "\\begin{pmatrix} -\\frac {\\partial_1 f(x_0)}{\\|\\nabla f(x_0)\\|} & -\\partial_2f(x)\n",
    "\\\\ -\\frac {\\partial_2 f(x_0)}{\\|\\nabla f(x_0)\\|} & \\partial_1 f(x) \\end{pmatrix}$  \n",
    "\n",
    "$\\gamma'(t)= -\\frac{1}{\\Delta} \\begin{pmatrix} \\partial_2f(x) \\\\ -\\partial_1f(x) \\end{pmatrix} \\neq 0$  \n",
    "Car $\\nabla f \\neq 0$ sur un voisinage ouvert de $x_0$.  \n",
    "\n",
    "De même $< \\gamma'(t),\\nabla f(\\gamma(t)>=\\frac{1}{\\Delta} (\\partial_2 f(\\gamma(t)) \\partial_1f(\\gamma(t)) - \\partial_1 f(\\gamma(t)) \\partial_2f(\\gamma(t))=0$  \n",
    "\n",
    "D'où $\\gamma'(t)$ orthogonal à $\\nabla f(\\gamma(t)$."
   ]
  },
  {
   "cell_type": "markdown",
   "metadata": {},
   "source": [
    "Question 5\n",
    "="
   ]
  },
  {
   "cell_type": "code",
   "execution_count": 16,
   "metadata": {},
   "outputs": [],
   "source": [
    "N = 100\n",
    "eps = 2.10**(-16)\n",
    "#eps=eps machine : Car pour un eps plus petit, \n",
    "#Python ne détecte pas les variations donc la condition d'arrêt n'arrive jamais"
   ]
  },
  {
   "cell_type": "markdown",
   "metadata": {},
   "source": [
    "Tâche 1\n",
    "="
   ]
  },
  {
   "cell_type": "code",
   "execution_count": 17,
   "metadata": {},
   "outputs": [],
   "source": [
    "def Newton(F, x0, y0, eps=eps, N=N):\n",
    "    J_1=numpy.linalg.inv(J(F)(x0,y0))\n",
    "    for i in range(N):\n",
    "        x=x0-np.dot(J_1,F(x0,y0))[0]\n",
    "        y=y0-np.dot(J_1,F(x0,y0))[1]\n",
    "        if np.sqrt((x - x0)**2 + (y - y0)**2) <= eps:\n",
    "            return x, y\n",
    "        x0, y0 = x, y\n",
    "    else:\n",
    "        raise ValueError(f\"no convergence in {N} steps.\")"
   ]
  },
  {
   "cell_type": "markdown",
   "metadata": {},
   "source": [
    "Tâche 2\n",
    "="
   ]
  },
  {
   "cell_type": "markdown",
   "metadata": {},
   "source": [
    "**==> Résultats à représenter graphiquement**"
   ]
  },
  {
   "cell_type": "code",
   "execution_count": 40,
   "metadata": {},
   "outputs": [
    {
     "data": {
      "text/plain": [
       "(-0.44721393148437083, -0.44721393148437083)"
      ]
     },
     "execution_count": 40,
     "metadata": {},
     "output_type": "execute_result"
    }
   ],
   "source": [
    "def F1(x,y):\n",
    "    return np.array([f1(x,y)-0.8,x-y])\n",
    "\n",
    "Newton(F1,-0.5,-0.5)"
   ]
  },
  {
   "cell_type": "code",
   "execution_count": 41,
   "metadata": {},
   "outputs": [
    {
     "name": "stderr",
     "output_type": "stream",
     "text": [
      "<ipython-input-17-4b428721a962>:6: RuntimeWarning: overflow encountered in double_scalars\n",
      "  if np.sqrt((x - x0)**2 + (y - y0)**2) <= eps:\n",
      "<ipython-input-3-41f422de841e>:32: RuntimeWarning: overflow encountered in double_scalars\n",
      "  return 3.0 * x1 * x1 - 2.0 * x1 * x2 + 3.0 * x2 * x2\n",
      "<ipython-input-3-41f422de841e>:32: RuntimeWarning: invalid value encountered in double_scalars\n",
      "  return 3.0 * x1 * x1 - 2.0 * x1 * x2 + 3.0 * x2 * x2\n"
     ]
    },
    {
     "data": {
      "image/png": "[encoded data removed]",
      "text/plain": [
       "<Figure size 432x288 with 1 Axes>"
      ]
     },
     "metadata": {
      "needs_background": "light"
     },
     "output_type": "display_data"
    },
    {
     "data": {
      "image/png": "[encoded data removed]",
      "text/plain": [
       "<Figure size 432x288 with 1 Axes>"
      ]
     },
     "metadata": {
      "needs_background": "light"
     },
     "output_type": "display_data"
    }
   ],
   "source": [
    "c=0.8\n",
    "\n",
    "def F1(x,y):\n",
    "    return np.array([f1(x,y)-c,x-y])\n",
    "\n",
    "x=np.linspace(-1.0,1.0,10)\n",
    "y=np.linspace(-1.0,1.0,10)\n",
    "x1,y1,x2,y2,x0,y0=[],[],[],[],[],[]\n",
    "for k in range(10):\n",
    "    for j in range(10):\n",
    "        try:\n",
    "            if abs(Newton(F1,x[k],x[j])[0]- Newton(F1,0.8,0.8)[0])<0.1:\n",
    "                x1.append(x[k])\n",
    "                y1.append(x[j])\n",
    "            elif abs(Newton(F1,x[k],x[j])[0]- Newton(F1,-0.5,-0.5)[0])<0.1:\n",
    "                x2.append(x[k])\n",
    "                y2.append(x[j])\n",
    "        except:\n",
    "            x0.append(x[k])\n",
    "            y0.append(x[j])\n",
    "\n",
    "plt.scatter(x0,y0,color='red',linewidths=0.001)#,'Pas de convergence',color='red')\n",
    "plt.scatter(x1,y1,color='blue',linewidths=0.001)#,'Convergence Point 1',color='blue')\n",
    "plt.scatter(x2,y2,color='green',linewidths=0.001)#,'Convergence Point 2',color='green')\n",
    "display_contour(\n",
    "    f1, \n",
    "    x=np.linspace(-1.0, 1.0, 100), \n",
    "    y=np.linspace(-1.0, 1.0, 100), \n",
    "    levels=10 # 10 levels, automatically selected\n",
    ")\n",
    "plt.show()"
   ]
  },
  {
   "cell_type": "markdown",
   "metadata": {},
   "source": [
    "Question 6 + Tâche 3\n",
    "=="
   ]
  },
  {
   "cell_type": "markdown",
   "metadata": {},
   "source": [
    "Le point $(x_1,y_1)$ à générer doit respecter deux conditions :\n",
    "- Appartenir à la ligne de niveau de f : $f(x_1, y_1)=c$\n",
    "- Appartenir au cercle de centre $(x_0,y_0)$ et de rayon $\\delta$\n",
    "\n",
    "A partir de ces deux conditions, on peut utiliser la fonction Newton, qui pour un $\\delta$ suffisamment petit, peut renvoyer deux solutions. Il faut donc vérifier que la solution obtenue est bien \"à droite\" de $(x_0,y_0)$ en regardant dans la direction de $\\nabla f(x_0, y_0)$ : il s'agit de la condition $p(x_1,y_1)>0$.  \n",
    "\n",
    "La représentation graphique des points de convergence de la fonction de Newton (question précédente), montre que la solution obtenue est celle qui est le plus proche spatialement du point de départ. L'algorithme va donc démarrer à partir d'un point que l'on a approché \"à la main\" de la bonne solution :  \n",
    "D'un point $(x_0, y_0)$, on fait démarrer la fonction Newton au point $(x_0+\\delta x, y_0+\\delta y)$ avec :  \n",
    "\n",
    "$R=\\begin{pmatrix} \\partial_y f(x_0,y_0) , - \\partial_x f(x_0,y_0) \\end{pmatrix}$  : Rotation de $\\nabla f(x_0, y_0)$ de $-\\frac{\\pi}{2}$\n",
    "\n",
    "$\\delta x = \\frac{\\delta}{10}.\n",
    "\\frac{1}{\\|\\nabla f(x_0,y_0)\\|}.\n",
    "R.\n",
    "\\begin{pmatrix} 1 \\\\ 0 \\end{pmatrix}$\n",
    "\n",
    "$\\delta y = \\frac{\\delta}{10}.\n",
    "\\frac{1}{\\|\\nabla f(x_0,y_0)\\|}.\n",
    "R.\n",
    "\\begin{pmatrix} 0 \\\\ 1 \\end{pmatrix}$"
   ]
  },
  {
   "cell_type": "code",
   "execution_count": 42,
   "metadata": {},
   "outputs": [
    {
     "data": {
      "text/plain": [
       "array([[2.        , 1.92936632, 1.85923742, ..., 0.77650099, 0.87009989,\n",
       "        0.9646227 ],\n",
       "       [1.        , 0.92919493, 0.85789206, ..., 1.47409173, 1.5094168 ,\n",
       "        1.54220558]])"
      ]
     },
     "execution_count": 42,
     "metadata": {},
     "output_type": "execute_result"
    },
    {
     "data": {
      "image/png": "[encoded data removed]",
      "text/plain": [
       "<Figure size 432x288 with 1 Axes>"
      ]
     },
     "metadata": {
      "needs_background": "light"
     },
     "output_type": "display_data"
    }
   ],
   "source": [
    "c=2.0\n",
    "\n",
    "def level_curve(f, x0, y0, delta=0.1, N=1000, eps=eps):\n",
    "    a, b = x0, y0\n",
    "    def F(x,y):\n",
    "        return np.array([f(x,y)-c,(x-a)**2+(y-b)**2-delta**2])\n",
    "    tableau = np.zeros((2,N),float)\n",
    "    tableau[0][0],tableau[1][0]=x0,y0\n",
    "    etapes = 0\n",
    "    while etapes<N-1:\n",
    "        etapes+=1\n",
    "        a,b=x0,y0\n",
    "        #Initialisation pour une recherche \"à droite\"\n",
    "        dx = (1/numpy.linalg.norm(grad(f)(x0,y0)))**(-1)*grad(f)(x0,y0)[1]*delta/10\n",
    "        dy = -(1/numpy.linalg.norm(grad(f)(x0,y0)))**(-1)*grad(f)(x0,y0)[0]*delta/10\n",
    "        x1,y1=x0+dx,y0+dy\n",
    "        x1,y1=Newton(F,x1,y1,eps,100)\n",
    "        tableau[0][etapes]=x1\n",
    "        tableau[1][etapes]=y1\n",
    "        #Vérification du point\n",
    "        p=((1/numpy.linalg.norm(grad(f)(x0,y0)))**(-1))*(grad(f)(x0,y0)[1]*(x1-x0)-grad(f)(x0,y0)[0]*(y1-y0))\n",
    "        if p<=0:\n",
    "            return 'error'\n",
    "        x0,y0=x1,y1\n",
    "    x=tableau[0]\n",
    "    y=tableau[1]\n",
    "    plt.plot(x,y)\n",
    "    plt.show\n",
    "    return tableau\n",
    "\n",
    "level_curve(f2,2.0,1.0)"
   ]
  },
  {
   "cell_type": "markdown",
   "metadata": {},
   "source": [
    "Question 7 + Tâche 4\n",
    "=="
   ]
  },
  {
   "cell_type": "code",
   "execution_count": 29,
   "metadata": {},
   "outputs": [],
   "source": [
    "c=2.0\n",
    "\n",
    "def test_inter(tableau,etapes,x,y):\n",
    "    for i in range(etapes-2):\n",
    "        #Points à considérer\n",
    "        x0,y0=tableau[0][i],tableau[1][i]\n",
    "        x1,y1=tableau[0][i+1],tableau[1][i+1]\n",
    "        x2,y2=tableau[0][etapes-1],tableau[1][etapes-1]\n",
    "        #Vérification du domaine d'existence du point d'intersection\n",
    "        if (max(x0,x1) < min(x2,x)) or (max(y0,y1) < min(y2,y)):\n",
    "            return False\n",
    "        #Calcul du point d'intersection\n",
    "        if x1==x0 or x==x2 :\n",
    "            return False\n",
    "        a1=(y1-y0)/(x1-x0)\n",
    "        a2=(y-y2)/(x-x2)\n",
    "        if a1==a2:\n",
    "            return False #Droites parallèles\n",
    "        b1=y1-a1*x1\n",
    "        b2=y2-a2*x2\n",
    "        xf=(b2-b1)/(a1-a2)\n",
    "        yf=a1*xf+b1\n",
    "        if xf<max(min(x0,x1), min(x2,x)) or xf>min(max(x0,x1), max(x2,x)):\n",
    "            return False\n",
    "        if yf<max(min(y0,y1), min(y2,y)) or yf>min(max(y0,y1), max(y2,y)):\n",
    "            return False\n",
    "        return True\n",
    "        \n",
    "\n",
    "\n",
    "def level_curve_optimized(f, x0, y0, delta=0.1, N=1000, eps=eps):\n",
    "    a,b=x0,y0\n",
    "    def F(x,y):\n",
    "        return np.array([f(x,y)-c,(x-a)**2+(y-b)**2-delta**2])\n",
    "    tableau=np.zeros((2,N),float)\n",
    "    tableau[0][0],tableau[1][0]=x0,y0\n",
    "    etapes=0\n",
    "    intersection = False\n",
    "    while etapes<N-1 and intersection==False :\n",
    "        a,b=x0,y0\n",
    "        #Initialisation pour une recherche \"à droite\"\n",
    "        x1,y1=x0+(1/numpy.linalg.norm(grad(f)(x0,y0)))**(-1)*grad(f)(x0,y0)[1]*delta/10,y0-(1/numpy.linalg.norm(grad(f)(x0,y0)))**(-1)*grad(f)(x0,y0)[0]*delta/10\n",
    "        x1,y1=Newton(F,x1,y1,eps,100)\n",
    "        #Lancer le test si au moins 3 points dans le tableau\n",
    "        if etapes>2:\n",
    "            intersection = test_inter(tableau,etapes,x1,y1)\n",
    "        etapes+=1\n",
    "        tableau[0][etapes]=x1\n",
    "        tableau[1][etapes]=y1\n",
    "        #Vérification du point\n",
    "        p=((1/numpy.linalg.norm(grad(f)(x0,y0)))**(-1))*(grad(f)(x0,y0)[1]*(x1-x0)-grad(f)(x0,y0)[0]*(y1-y0))\n",
    "        if p<=0:\n",
    "            return 'error'\n",
    "        x0,y0=x1,y1\n",
    "    x=tableau[0]\n",
    "    y=tableau[1]\n",
    "    plt.plot(x[:etapes],y[:etapes])\n",
    "    plt.show\n",
    "    return tableau[:etapes,:etapes],f\"Le nombre d'étapes est {etapes}:\""
   ]
  },
  {
   "cell_type": "markdown",
   "metadata": {},
   "source": [
    "Tâche 5\n",
    "=="
   ]
  },
  {
   "cell_type": "code",
   "execution_count": 43,
   "metadata": {},
   "outputs": [
    {
     "data": {
      "text/plain": [
       "(array([[ 2.        ,  1.92936632,  1.85923742,  1.7901095 ,  1.72251909,\n",
       "          1.65710294,  1.59464653,  1.53617473,  1.48304922,  1.43707688,\n",
       "          1.4005612 ,  1.37613728,  1.3661778 ,  1.37183894,  1.3924479 ,\n",
       "          1.42587169,  1.46946749,  1.52080783,  1.57794758,  1.63941189,\n",
       "          1.70409372,  1.77114786,  1.83990502,  1.90980865,  1.98035348,\n",
       "          2.05103672,  2.12129947,  2.19042624,  2.25735888,  2.32025817,\n",
       "          2.37521455,  2.41131625,  2.39430176,  2.31555144,  2.22004656,\n",
       "          2.12101303,  2.02111001,  1.92110032,  1.82126841,  1.72174328,\n",
       "          1.62259583,  1.52387443,  1.42562597,  1.32788516,  1.23069662,\n",
       "          1.13411819,  1.03821102,  0.94304868,  0.84872616,  0.75535184,\n",
       "          0.66305867,  0.57201586,  0.48243106,  0.39455555,  0.30870773,\n",
       "          0.22528285,  0.14477032,  0.06776639, -0.00500226, -0.0726956 ,\n",
       "         -0.13440562, -0.18923152, -0.23643153, -0.27559017, -0.30673072,\n",
       "         -0.33033255, -0.3472008 , -0.35826257, -0.36434525, -0.3659992 ,\n",
       "         -0.36338759, -0.35625542, -0.34397878, -0.32569049, -0.30047079,\n",
       "         -0.26757116, -0.22660813, -0.17766033, -0.12123071, -0.05811063,\n",
       "          0.0107883 ,  0.08456261,  0.16240261,  0.2436112 ,  0.32760966,\n",
       "          0.41393542,  0.50221268,  0.59213872,  0.68347473,  0.77601751,\n",
       "          0.86961124,  0.96412948,  1.05946321,  1.15552753,  1.25224623,\n",
       "          1.34956077,  1.4474216 ,  1.54578559,  1.64460653,  1.74384903,\n",
       "          1.84345539,  1.94334615,  2.04337548,  2.14318879,  2.24180431,\n",
       "          2.33554366,  2.4051048 ,  2.40611983,  2.36406307,  2.30679702,\n",
       "          2.24277713,  2.17523869,  2.10578642,  2.03537535,  1.96467834,\n",
       "          1.89423501],\n",
       "        [ 1.        ,  0.92919493,  0.85789206,  0.78561835,  0.71190141,\n",
       "          0.63625419,  0.55814671,  0.47701543,  0.39228914,  0.30347978,\n",
       "          0.21038317,  0.1134099 ,  0.01390627, -0.08593361, -0.18378745,\n",
       "         -0.27803727, -0.36803714, -0.45385617, -0.53593001, -0.61481996,\n",
       "         -0.69109679, -0.76529847, -0.8379249 , -0.9094529 , -0.98034958,\n",
       "         -1.05110499, -1.12227686, -1.19455239, -1.26886433, -1.34661902,\n",
       "         -1.43016957, -1.52342716, -1.62196996, -1.68360232, -1.71325159,\n",
       "         -1.72718948, -1.73192059, -1.73038113, -1.72411839, -1.71403754,\n",
       "         -1.70070376, -1.68448299, -1.66561541, -1.64425298, -1.62048491,\n",
       "         -1.59435318, -1.56585838, -1.53496557, -1.50160907, -1.46569009,\n",
       "         -1.42707784, -1.38561105, -1.341095  , -1.2932977 , -1.24195464,\n",
       "         -1.18676998, -1.12742476, -1.06359127, -0.99497398, -0.92135454,\n",
       "         -0.8426524 , -0.75901193, -0.67084756, -0.5788278 , -0.48379813,\n",
       "         -0.38662073, -0.288052  , -0.18866398, -0.08884859,  0.01113799,\n",
       "          0.11110514,  0.21085078,  0.31009505,  0.40840906,  0.50517913,\n",
       "          0.59961356,  0.69084193,  0.77804774,  0.86061255,  0.9381838 ,\n",
       "          1.01067512,  1.07819962,  1.14100547,  1.19939694,  1.25369694,\n",
       "          1.30422437,  1.35126853,  1.39508633,  1.43590248,  1.47390144,\n",
       "          1.50923995,  1.54204163,  1.57239637,  1.60036477,  1.62597238,\n",
       "          1.64921071,  1.67002912,  1.68832536,  1.70392871,  1.71657725,\n",
       "          1.72586725,  1.73117379,  1.73148399,  1.72503114,  1.70836489,\n",
       "          1.67351576,  1.60167338,  1.5016801 ,  1.41095389,  1.32897144,\n",
       "          1.25214426,  1.17838482,  1.10642496,  1.03539801,  0.96465681,\n",
       "          0.89366295]]),\n",
       " \"Le nombre d'étapes est 116:\")"
      ]
     },
     "execution_count": 43,
     "metadata": {},
     "output_type": "execute_result"
    },
    {
     "data": {
      "image/png": "[encoded data removed]",
      "text/plain": [
       "<Figure size 432x288 with 1 Axes>"
      ]
     },
     "metadata": {
      "needs_background": "light"
     },
     "output_type": "display_data"
    }
   ],
   "source": [
    "level_curve_optimized(f2,2.0,1.0)"
   ]
  },
  {
   "cell_type": "markdown",
   "metadata": {},
   "source": [
    "Question 8\n",
    "=="
   ]
  },
  {
   "cell_type": "markdown",
   "metadata": {},
   "source": [
    "Posons :  \n",
    "$P_1 = (x_{P1},y_{P1})$, $P_2 = (x_{P2},y_{P2})$, $u_1 = (v_1,w_1)$ et $u_2 = (v_2,w_2)$  \n",
    "\n",
    "$\\gamma'(0)$ et $u_1$ sont dans la même direction et le même sens donc :  \n",
    "$\\gamma'(0) = \\rho.u_1$ avec $\\rho \\in \\mathbb{R}^{+}$  \n",
    "De même pour $\\gamma'(1)$ et $u_2$:  \n",
    "$\\gamma'(1) = \\mu.u_2$ avec $\\mu \\in \\mathbb{R}^{+}$ \n",
    "\n",
    "On a :  \n",
    "$\\gamma(0) = P_1 = (x_{P1},y_{P1}) = (a,d)$  \n",
    "$\\gamma(1) = P_2 = (x_{P2},y_{P2}) = (a+b+c,d+e+f)$  \n",
    "$\\gamma'(0) = (b, e)$  \n",
    "$\\gamma'(1) = (b+2c, e+2f)$  \n",
    "\n",
    "Après résolution du système, on obtient :  \n",
    "$\\mu = 2.\\frac{(x_{P2}-x_{P1})w_1-(y_{P2}-y_{P1})v_1}{w_1v_2-w_2v_1}$  \n",
    "$\\rho = 2.\\frac{(x_{P2}-x_{P1})w_2-(y_{P2}-y_{P1})v_2}{v_1w_2-v_2w_1}$  \n",
    "\n",
    "Les conditions à respecter sont :\n",
    "$\\rho > 0$ et $\\mu > 0$ pour avoir $\\gamma'(0)$ et $u_1$ ainsi que $\\gamma'(1)$ et $u_2$ dans le même sens."
   ]
  },
  {
   "cell_type": "markdown",
   "metadata": {},
   "source": [
    "Tâche 6\n",
    "=="
   ]
  },
  {
   "cell_type": "code",
   "execution_count": 202,
   "metadata": {},
   "outputs": [],
   "source": [
    "def gamma(t,P1,P2,u1,u2):\n",
    "    xp1, yp1 = P1\n",
    "    xp2, yp2 = P2\n",
    "    v1, w1 = u1\n",
    "    v2, w2 = u2\n",
    "    rho = (2*(w2*(xp2-xp1)-v2*(yp2-yp1)))/((v1*w2)-(v2*w1))\n",
    "    mu = (2*(w1*(xp2-xp1)-v1*(yp2-yp1)))/(v2*w1-v1*w2)\n",
    "    a=xp1\n",
    "    b=rho*v1\n",
    "    c=0.5*(mu*v2-rho*v1)\n",
    "    d=yp1\n",
    "    e=rho*w1\n",
    "    f=0.5*(mu*w2-rho*w1)\n",
    "    #Conditions\n",
    "    I=np.ones(len(t))\n",
    "    if mu>0 and rho>0:\n",
    "        return np.array([a*I + b*t + c*t*t, d*I + e*t + f*t*t])\n",
    "    else:\n",
    "        return np.array([(xp2-xp1)*np.linspace(0,1,len(t))+xp1,(yp2-yp1)*np.linspace(0,1,len(t))+yp1])"
   ]
  },
  {
   "cell_type": "markdown",
   "metadata": {},
   "source": [
    "Tâche 7\n",
    "=="
   ]
  },
  {
   "cell_type": "markdown",
   "metadata": {},
   "source": [
    "Les vecteurs $u_1$ et $u_2$ sont les vecteurs gradients après rotation de $-\\frac{\\pi}{2}$ aux points $P_1$ et $P_2$,\n",
    "car la droite tangente à une courbe en point est orthogonal au gradient en ce point.  \n",
    "La norme de $u_1$ et de $u_2$ n'importe pas."
   ]
  },
  {
   "cell_type": "code",
   "execution_count": 204,
   "metadata": {},
   "outputs": [],
   "source": [
    "#En commentaire, les modifications par rapport à level_curve_optimized\n",
    "\n",
    "def new_level_curve(f, x0, y0, oversampling, delta = 0.1, N=1000, eps=eps):\n",
    "    a,b=x0,y0\n",
    "    def F(x,y):\n",
    "        return np.array([f(x,y)-c,(x-a)**2+(y-b)**2-delta**2])\n",
    "    #Tableau élargi\n",
    "    tableau=np.zeros((2,N*oversampling),float)\n",
    "    tableau[0][0],tableau[1][0]=x0,y0\n",
    "    etapes=0\n",
    "    intersection = False\n",
    "    while etapes<N-1 and intersection==False :\n",
    "        a,b=x0,y0\n",
    "        x1,y1=x0+(1/numpy.linalg.norm(grad(f)(x0,y0)))**(-1)*grad(f)(x0,y0)[1]*delta/10,y0-(1/numpy.linalg.norm(grad(f)(x0,y0)))**(-1)*grad(f)(x0,y0)[0]*delta/10\n",
    "        x1,y1=Newton(F,x1,y1,eps,100)\n",
    "        if etapes>2:\n",
    "            intersection = test_inter(tableau,etapes*oversampling,x1,y1)\n",
    "        #Interpolation avec le nouveau point obtenu\n",
    "        if oversampling>1:\n",
    "            u1=(grad(f)(x0,y0)[1],-grad(f)(x0,y0)[0])\n",
    "            u2=(grad(f)(x1,y1)[1],-grad(f)(x1,y1)[0])\n",
    "            tableau[:,etapes*oversampling:(etapes+1)*oversampling+1] = (\n",
    "                gamma(np.linspace(0,1,oversampling+1),(x0,y0),(x1,y1),u1,u2)\n",
    "            )\n",
    "        etapes+=1\n",
    "        p=((1/numpy.linalg.norm(grad(f)(x0,y0)))**(-1))*(grad(f)(x0,y0)[1]*(x1-x0)-grad(f)(x0,y0)[0]*(y1-y0))\n",
    "        if p<=0:\n",
    "            return 'error'\n",
    "        x0,y0=x1,y1\n",
    "    x=tableau[0]\n",
    "    y=tableau[1]\n",
    "    plt.plot(x[:(etapes)*oversampling],y[:(etapes)*oversampling])\n",
    "    plt.show()\n",
    "    return (\n",
    "        tableau[:,:(etapes)*oversampling],\n",
    "        f\"Le nombre d'étapes est : {etapes+1}\",\n",
    "        f\"Le nombre de points est : {(etapes+1)*oversampling}\"\n",
    "    )"
   ]
  },
  {
   "cell_type": "markdown",
   "metadata": {},
   "source": [
    "Tâche 8\n",
    "=="
   ]
  },
  {
   "cell_type": "code",
   "execution_count": 205,
   "metadata": {},
   "outputs": [
    {
     "data": {
      "image/png": "[encoded data removed]",
      "text/plain": [
       "<Figure size 432x288 with 1 Axes>"
      ]
     },
     "metadata": {
      "needs_background": "light"
     },
     "output_type": "display_data"
    },
    {
     "data": {
      "text/plain": [
       "(array([[2.        , 1.98214072, 1.96614772, ..., 0.90763328, 0.92653785,\n",
       "         0.94553432],\n",
       "        [1.        , 0.98213387, 0.96612029, ..., 1.52277106, 1.52932882,\n",
       "         1.53580699]]),\n",
       " \"Le nombre d'étapes est : 1000\",\n",
       " 'Le nombre de points est : 5000')"
      ]
     },
     "execution_count": 205,
     "metadata": {},
     "output_type": "execute_result"
    }
   ],
   "source": [
    "new_level_curve(f2, 2.0, 1.0, 5)"
   ]
  },
  {
   "cell_type": "code",
   "execution_count": 206,
   "metadata": {},
   "outputs": [
    {
     "data": {
      "image/png": "[encoded data removed]",
      "text/plain": [
       "<Figure size 432x288 with 1 Axes>"
      ]
     },
     "metadata": {
      "needs_background": "light"
     },
     "output_type": "display_data"
    },
    {
     "data": {
      "image/png": "[encoded data removed]",
      "text/plain": [
       "<Figure size 432x288 with 2 Axes>"
      ]
     },
     "metadata": {
      "needs_background": "light"
     },
     "output_type": "display_data"
    }
   ],
   "source": [
    "def zoom(start,points,oversampling):\n",
    "    plt.title('Figure générale')\n",
    "    Tableau = new_level_curve(f2, 2.0, 1.0, oversampling)[0]\n",
    "    x1,y1 = Tableau[:,start*oversampling:start*oversampling+points*oversampling:oversampling]\n",
    "    x2,y2 = Tableau[:,start*oversampling:start*oversampling+(points-1)*oversampling+1]\n",
    "    figure, axes = plt.subplots(1,2)\n",
    "    \n",
    "    figure.suptitle('Zoom')\n",
    "    axes[0].set_title('Sans interpolation')\n",
    "    axes[0].plot(x1,y1)\n",
    "    axes[1].set_title('Avec interpolation')\n",
    "    axes[1].plot(x2,y2)\n",
    "    \n",
    "    plt.show()\n",
    "    \n",
    "zoom(105,4,5)"
   ]
  }
 ],
 "metadata": {
  "kernelspec": {
   "display_name": "Python 3",
   "language": "python",
   "name": "python3"
  },
  "language_info": {
   "codemirror_mode": {
    "name": "ipython",
    "version": 3
   },
   "file_extension": ".py",
   "mimetype": "text/x-python",
   "name": "python",
   "nbconvert_exporter": "python",
   "pygments_lexer": "ipython3",
   "version": "3.8.3"
  }
 },
 "nbformat": 4,
 "nbformat_minor": 4
}
