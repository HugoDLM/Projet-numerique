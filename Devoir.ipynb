{
 "cells": [
  {
   "cell_type": "markdown",
   "metadata": {},
   "source": [
    "Projet Numérique \"Calcul différentiel\"\n",
    "\n",
    "Tanguy Aurousseau, Hugo de La Marlier"
   ]
  },
  {
   "cell_type": "code",
   "execution_count": 2,
   "metadata": {},
   "outputs": [],
   "source": [
    "# Importation des librairies\n",
    "import autograd\n",
    "import autograd.numpy as np\n",
    "import pandas as pd\n",
    "import numpy.linalg\n",
    "\n",
    "\n",
    "import matplotlib as mpl\n",
    "import matplotlib.pyplot as plt"
   ]
  },
  {
   "cell_type": "code",
   "execution_count": 3,
   "metadata": {},
   "outputs": [],
   "source": [
    "# Fonctions données par l'énoncé\n",
    "\n",
    "def grad(f):\n",
    "    g = autograd.grad\n",
    "    def grad_f(x, y):\n",
    "        return np.array([g(f, 0)(x, y), g(f, 1)(x, y)])\n",
    "    return grad_f\n",
    "\n",
    "def J(f):\n",
    "    j = autograd.jacobian\n",
    "    def J_f(x, y):\n",
    "        return np.array([j(f, 0)(x, y), j(f, 1)(x, y)]).T\n",
    "    return J_f\n",
    "\n",
    "def display_contour(f, x, y, levels):\n",
    "    X, Y = np.meshgrid(x, y)\n",
    "    Z = f(X, Y)\n",
    "    fig, ax = plt.subplots()\n",
    "    contour_set = plt.contour(\n",
    "        X, Y, Z, colors=\"grey\", linestyles=\"dashed\", \n",
    "        levels=levels \n",
    "    )\n",
    "    ax.clabel(contour_set)\n",
    "    plt.grid(True)\n",
    "    plt.xlabel(\"$x_1$\") \n",
    "    plt.ylabel(\"$x_2$\")\n",
    "    plt.gca().set_aspect(\"equal\")\n",
    "    \n",
    "def f1(x1, x2):\n",
    "    x1 = np.array(x1)\n",
    "    x2 = np.array(x2)\n",
    "    return 3.0 * x1 * x1 - 2.0 * x1 * x2 + 3.0 * x2 * x2 \n",
    "\n",
    "def f2(x1, x2):\n",
    "    return (x1 - 1)**2 + (x1 - x2**2)**2"
   ]
  },
  {
   "cell_type": "markdown",
   "metadata": {},
   "source": [
    "**Analyse des ensembles de niveau**\n",
    "==\n",
    "Question 1\n",
    "="
   ]
  },
  {
   "cell_type": "markdown",
   "metadata": {},
   "source": [
    "Montrons que l'ensemble de niveau c de f,  $f^{-1}(\\{c\\})$ pour $c \\in \\mathbb{R}$, est un fermé borné."
   ]
  },
  {
   "cell_type": "markdown",
   "metadata": {},
   "source": [
    "Le singleton $\\{c\\}$ est un fermé. Par continuité de f de $\\mathbb{R}^2$ dans $\\mathbb{R}$, on en déduit que son image réciproque donc l'ensemble de niveau $f^{-1}(\\{c\\})$ est un fermé de $\\mathbb{R}^2$.\n",
    "\n",
    "De plus, cet ensemble est borné. En effet :  \n",
    "Soit $c \\in \\mathbb{R}$.  \n",
    "On a $f(x_1, x_2) \\to +\\infty$ quand $\\|(x_1,x_2)\\| \\to +\\infty$ donc :  \n",
    "$\\forall A \\in \\mathbb{R}, \\exists M \\in \\mathbb{R}, \\|(x_1,x_2)\\| \\ge M \\Rightarrow f(x_1,x_2)\\gt A$  \n",
    "En particulier, il existe $l \\in \\mathbb{R}$ tel que :  \n",
    "$\\forall (x_1,x_2) \\in \\mathbb{R}^2, \\|(x_1,x_2)\\| \\ge l \\Rightarrow f(x_1,x_2)\\gt c$  \n",
    "Alors $f^{-1}(\\{c\\})$ est majorée (selon la norme euclidienne) par ce réel l : l'ensemble est borné.\n",
    "\n",
    "D'où $f^{-1}(\\{c\\})$ fermé et borné."
   ]
  },
  {
   "cell_type": "markdown",
   "metadata": {},
   "source": [
    "Question 2\n",
    "=="
   ]
  },
  {
   "cell_type": "markdown",
   "metadata": {},
   "source": [
    "Soit $x_0=(x_{10},x_{20}) \\in \\mathbb{R}^2$  \n",
    "\n",
    "\n",
    "$p(x_1, x_2) = \\frac{\\partial_2 f(x_0)}{\\|\\nabla f(x_0)\\|} (x_1 - x_{10}) -\n",
    "\\frac{\\partial_1 f(x_0)}{\\|\\nabla f(x_0)\\|} (x_2 - x_{20}) \n",
    "= < (x_1-x_0;x_2-x_0);(\\frac{\\partial_2 f(x_0)}{\\|\\nabla f(x_0)\\|};-\\frac{\\partial_1 f(x_0)}{\\|\\nabla f(x_0)\\|})> \n",
    "= <u,v>$  \n",
    "Avec $u=(x_1-x_0;x_2-x_0)$ et $v=(\\frac{\\partial_2 f(x_0)}{\\|\\nabla f(x_0)\\|};-\\frac{\\partial_1 f(x_0)}{\\|\\nabla f(x_0)\\|})$  \n",
    "On remarque que $v$ est obtenu après rotation du vecteur $grad(f)$ d'un angle $-\\frac{\\pi}{2}$.\n",
    "\n",
    "$p(x_1,x_2)$ s'interprète géométriquement comme le produit scalaire de u et v."
   ]
  },
  {
   "cell_type": "markdown",
   "metadata": {},
   "source": [
    "Question 3\n",
    "="
   ]
  },
  {
   "cell_type": "markdown",
   "metadata": {},
   "source": [
    "Soit V un voisinage ouvert de $x_0$ tel que $V\\subset\\mathbb{R}^2$\n",
    "On pose g de $V \\times \\mathbb{R}$ dans $\\mathbb{R}^2$ avec $g(x,t)=(f(x)-c,p(x)-t)$\n",
    "\n",
    "Comme f est continûment différentiable, g l'est aussi par définition.\n",
    "\n",
    "$\\partial_x g(x,t) = \\begin{pmatrix} \\partial_1f(x) & \\partial_2f(x)\n",
    "\\\\ + \\frac {\\partial_2 f(x_0)}{\\|\\nabla f(x_0)\\|} & -\\frac {\\partial_1 f(x_0)}{\\|\\nabla f(x_0)\\|} \\end{pmatrix}$\n",
    "\n",
    "Et en $x_0$ :\n",
    "$\\Delta = - \\frac{1}{\\|\\nabla f(x_0)\\|} ((\\partial_1 f(x_0))^2 + (\\partial_2 f(x_0))^2) \\neq 0$ car le gradient est non nul en $x_0$  \n",
    "Comme $\\partial_x f$ est continue, le théorème des fonctions implicites s'applique.  \n",
    "\n",
    "$\\forall t \\in \\mathbb{R}, g(x_0,t)=(0,0)$ donc il existe une fonction\n",
    "$\\gamma$ de $]-\\epsilon;\\epsilon[$ dans $\\mathbb{R}^2$ continûment différentiable telle que :  \n",
    "$\\forall x \\in V$ : $f(x_1,x_2)=c$ si et seulement si $(x_1,x_2)=\\gamma (t)$ où $t=p(x_1,x_2)$  \n",
    "d'après le théorème des fonctions implicites."
   ]
  },
  {
   "cell_type": "markdown",
   "metadata": {},
   "source": [
    "Question 4\n",
    "="
   ]
  },
  {
   "cell_type": "markdown",
   "metadata": {},
   "source": [
    "Toujours par le théorème des fonctions implicites, on a :  \n",
    "$\\forall t \\in ]-\\epsilon;\\epsilon[, \\gamma'(t)=-(\\partial_x g(x,t))^{-1}.\\partial_t f(x,t)$  \n",
    "\n",
    "Or,  \n",
    "$\\partial_t f(x,t) = \\begin{pmatrix} 0 \\\\ -1 \\end{pmatrix}$\n",
    "\n",
    "$\\partial_x g(x,t))^{-1}=\\frac{1}{\\Delta} \n",
    "\\begin{pmatrix} -\\frac {\\partial_1 f(x_0)}{\\|\\nabla f(x_0)\\|} & -\\partial_2f(x)\n",
    "\\\\ -\\frac {\\partial_2 f(x_0)}{\\|\\nabla f(x_0)\\|} & \\partial_1 f(x) \\end{pmatrix}$  \n",
    "\n",
    "$\\gamma'(t)= -\\frac{1}{\\Delta} \\begin{pmatrix} \\partial_2f(x) \\\\ -\\partial_1f(x) \\end{pmatrix} \\neq 0$  \n",
    "Car $\\nabla f \\neq 0$ sur un voisinage ouvert de $x_0$.  \n",
    "\n",
    "De même $< \\gamma'(t),\\nabla f(\\gamma(t)>=\\frac{1}{\\Delta} (\\partial_2 f(\\gamma(t)) \\partial_1f(\\gamma(t)) - \\partial_1 f(\\gamma(t)) \\partial_2f(\\gamma(t))=0$  \n",
    "\n",
    "D'où $\\gamma'(t)$ orthogonal à $\\nabla f(\\gamma(t)$."
   ]
  },
  {
   "cell_type": "markdown",
   "metadata": {},
   "source": [
    "Question 5\n",
    "="
   ]
  },
  {
   "cell_type": "code",
   "execution_count": 4,
   "metadata": {},
   "outputs": [],
   "source": [
    "N = 100\n",
    "eps = 2.10**(-16)\n",
    "#eps=eps machine : Car pour un eps plus petit, \n",
    "#Python ne détecte pas les variations donc la condition d'arrêt n'arrive jamais"
   ]
  },
  {
   "cell_type": "markdown",
   "metadata": {},
   "source": [
    "Tâche 1\n",
    "="
   ]
  },
  {
   "cell_type": "code",
   "execution_count": 5,
   "metadata": {},
   "outputs": [],
   "source": [
    "def Newton(F, x0, y0, eps=eps, N=N):\n",
    "    J_1=numpy.linalg.inv(J(F)(x0,y0))\n",
    "    for i in range(N):\n",
    "        x=x0-np.dot(J_1,F(x0,y0))[0]\n",
    "        y=y0-np.dot(J_1,F(x0,y0))[1]\n",
    "        if np.sqrt((x - x0)**2 + (y - y0)**2) <= eps:\n",
    "            return x, y\n",
    "        x0, y0 = x, y\n",
    "    else:\n",
    "        raise ValueError(f\"no convergence in {N} steps.\")"
   ]
  },
  {
   "cell_type": "markdown",
   "metadata": {},
   "source": [
    "Tâche 2\n",
    "="
   ]
  },
  {
   "cell_type": "code",
   "execution_count": 6,
   "metadata": {},
   "outputs": [
    {
     "data": {
      "text/plain": [
       "(-0.44721393148437083, -0.44721393148437083)"
      ]
     },
     "execution_count": 6,
     "metadata": {},
     "output_type": "execute_result"
    }
   ],
   "source": [
    "def F1(x,y):\n",
    "    return np.array([f1(x,y)-0.8,x-y])\n",
    "\n",
    "Newton(F1,-0.5,-0.5)"
   ]
  },
  {
   "cell_type": "code",
   "execution_count": 7,
   "metadata": {},
   "outputs": [
    {
     "data": {
      "image/png": "[encoded data removed]",
      "text/plain": [
       "<Figure size 432x288 with 1 Axes>"
      ]
     },
     "metadata": {
      "needs_background": "light"
     },
     "output_type": "display_data"
    }
   ],
   "source": [
    "c=0.8\n",
    "\n",
    "import sys\n",
    "\n",
    "def F1(x,y):\n",
    "    return np.array([f1(x,y)-c,x-y])\n",
    "\n",
    "x=np.linspace(-1.0,1.0,10)\n",
    "y=np.linspace(-1.0,1.0,10)\n",
    "x1,y1,x2,y2,x0,y0=[],[],[],[],[],[]\n",
    "for k in range(10):\n",
    "    for j in range(10):\n",
    "        if not sys.warnoptions:\n",
    "            import warnings\n",
    "            warnings.simplefilter(\"ignore\")\n",
    "        try:\n",
    "            if abs(Newton(F1,x[k],x[j])[0]- Newton(F1,0.8,0.8)[0])<0.1:\n",
    "                x1.append(x[k])\n",
    "                y1.append(x[j])\n",
    "            elif abs(Newton(F1,x[k],x[j])[0]- Newton(F1,-0.5,-0.5)[0])<0.1:\n",
    "                x2.append(x[k])\n",
    "                y2.append(x[j])\n",
    "        except:\n",
    "            x0.append(x[k])\n",
    "            y0.append(x[j])\n",
    "\n",
    "#Tracé ligne de niveau\n",
    "x=np.linspace(-1, 1, 300) \n",
    "y=np.linspace(-1, 1, 300)\n",
    "X, Y = np.meshgrid(x, y)\n",
    "Z = f1(X, Y)\n",
    "plt.contour(X, Y, Z, levels = [0.8] )\n",
    "\n",
    "#Tracé des points initiaux\n",
    "plt.scatter(x0,y0,color='red',linewidths=0.001)#,'Pas de convergence',color='red')\n",
    "plt.scatter(x1,y1,color='blue',linewidths=0.001)#,'Convergence Point 1',color='blue')\n",
    "plt.scatter(x2,y2,color='green',linewidths=0.001)#,'Convergence Point 2',color='green')\n",
    "\n",
    "#Tracé des points de convergence\n",
    "plt.scatter(Newton(F1,0.8,0.8)[0],Newton(F1,0.8,0.8)[1], linewidths=10, color = 'black')\n",
    "plt.scatter(Newton(F1,-0.5,-0.5)[0],Newton(F1,-0.5,-0.5)[1], linewidths=10, color = 'black')\n",
    "plt.show()"
   ]
  },
  {
   "cell_type": "markdown",
   "metadata": {},
   "source": [
    "Question 6 + Tâche 3\n",
    "=="
   ]
  },
  {
   "cell_type": "markdown",
   "metadata": {},
   "source": [
    "Le point $(x_1,y_1)$ à générer doit respecter deux conditions :\n",
    "- Appartenir à la ligne de niveau de f : $f(x_1, y_1)=c$\n",
    "- Appartenir au cercle de centre $(x_0,y_0)$ et de rayon $\\delta$\n",
    "\n",
    "A partir de ces deux conditions, on peut utiliser la fonction Newton, qui pour un $\\delta$ suffisamment petit, peut renvoyer deux solutions. Il faut donc vérifier que la solution obtenue est bien \"à droite\" de $(x_0,y_0)$ en regardant dans la direction de $\\nabla f(x_0, y_0)$ : il s'agit de la condition $p(x_1,y_1)>0$.  \n",
    "\n",
    "La représentation graphique des points de convergence de la fonction de Newton (question précédente), montre que la solution obtenue est celle qui est le plus proche spatialement du point de départ. L'algorithme va donc démarrer à partir d'un point que l'on a approché \"à la main\" de la bonne solution :  \n",
    "D'un point $(x_0, y_0)$, on fait démarrer la fonction Newton au point $(x_0+\\delta x, y_0+\\delta y)$ avec :  \n",
    "\n",
    "$R=\\begin{pmatrix} \\partial_y f(x_0,y_0) , - \\partial_x f(x_0,y_0) \\end{pmatrix}$  : Rotation de $\\nabla f(x_0, y_0)$ de $-\\frac{\\pi}{2}$\n",
    "\n",
    "$\\delta x = \\delta.\n",
    "\\frac{1}{\\|\\nabla f(x_0,y_0)\\|}.\n",
    "R.\n",
    "\\begin{pmatrix} 1 \\\\ 0 \\end{pmatrix}$\n",
    "\n",
    "$\\delta y = \\delta.\n",
    "\\frac{1}{\\|\\nabla f(x_0,y_0)\\|}.\n",
    "R.\n",
    "\\begin{pmatrix} 0 \\\\ 1 \\end{pmatrix}$"
   ]
  },
  {
   "cell_type": "code",
   "execution_count": 8,
   "metadata": {},
   "outputs": [
    {
     "data": {
      "text/plain": [
       "array([[2.        , 1.92937515, 1.85925372, ..., 0.75972245, 0.85310216,\n",
       "        0.94742144],\n",
       "       [1.        , 0.9292036 , 0.85790854, ..., 1.46743816, 1.50321845,\n",
       "        1.53644306]])"
      ]
     },
     "execution_count": 8,
     "metadata": {},
     "output_type": "execute_result"
    },
    {
     "data": {
      "image/png": "[encoded data removed]",
      "text/plain": [
       "<Figure size 432x288 with 1 Axes>"
      ]
     },
     "metadata": {
      "needs_background": "light"
     },
     "output_type": "display_data"
    }
   ],
   "source": [
    "c=2.0\n",
    "\n",
    "def level_curve(f, x0, y0, delta=0.1, N=1000, eps=eps):\n",
    "    a, b = x0, y0\n",
    "    def F(x,y):\n",
    "        return np.array([f(x,y)-c,(x-a)**2+(y-b)**2-delta**2])\n",
    "    tableau = np.zeros((2,N),float)\n",
    "    tableau[0][0],tableau[1][0]=x0,y0\n",
    "    etapes = 0\n",
    "    while etapes<N-1:\n",
    "        etapes+=1\n",
    "        a,b=x0,y0\n",
    "        #Initialisation pour une recherche \"à droite\"\n",
    "        dx = (1/numpy.linalg.norm(grad(f)(x0,y0)))*grad(f)(x0,y0)[1]*delta\n",
    "        dy = -(1/numpy.linalg.norm(grad(f)(x0,y0)))*grad(f)(x0,y0)[0]*delta\n",
    "        x1,y1=x0+dx,y0+dy\n",
    "        x1,y1=Newton(F,x1,y1,eps,100)\n",
    "        tableau[0][etapes]=x1\n",
    "        tableau[1][etapes]=y1\n",
    "        #Vérification du point\n",
    "        p=(1/numpy.linalg.norm(grad(f)(x0,y0)))*(grad(f)(x0,y0)[1]*(x1-x0)-grad(f)(x0,y0)[0]*(y1-y0))\n",
    "        if p<=0:\n",
    "            return 'error'\n",
    "        x0,y0=x1,y1\n",
    "    x=tableau[0]\n",
    "    y=tableau[1]\n",
    "    plt.plot(x,y)\n",
    "    plt.show\n",
    "    return tableau\n",
    "\n",
    "level_curve(f2,2.0,1.0)"
   ]
  },
  {
   "cell_type": "markdown",
   "metadata": {},
   "source": [
    "Question 7 + Tâche 4\n",
    "=="
   ]
  },
  {
   "cell_type": "markdown",
   "metadata": {},
   "source": [
    "Optimiste et delta petit : Quasiment aucune chance d'erreur avec méthode comparaison au premier segment.\n",
    "\n",
    "Ou sinon proposition : \n",
    "- Comparaison des deux derniers segments avec les deux premiers segments"
   ]
  },
  {
   "cell_type": "code",
   "execution_count": 9,
   "metadata": {},
   "outputs": [],
   "source": [
    "c=2.0\n",
    "\n",
    "def test_inter(tableau,etapes,x,y):\n",
    "    for i in range(etapes-2):\n",
    "        #Points à considérer\n",
    "        x0,y0=tableau[0][i],tableau[1][i]\n",
    "        x1,y1=tableau[0][i+1],tableau[1][i+1]\n",
    "        x2,y2=tableau[0][etapes-1],tableau[1][etapes-1]\n",
    "        #Vérification du domaine d'existence du point d'intersection\n",
    "        if (max(x0,x1) < min(x2,x)) or (max(y0,y1) < min(y2,y)):\n",
    "            return False\n",
    "        #Calcul du point d'intersection\n",
    "        if x1==x0 or x==x2 :\n",
    "            return False\n",
    "        a1=(y1-y0)/(x1-x0)\n",
    "        a2=(y-y2)/(x-x2)\n",
    "        if a1==a2:\n",
    "            return False #Droites parallèles\n",
    "        b1=y1-a1*x1\n",
    "        b2=y2-a2*x2\n",
    "        xf=(b2-b1)/(a1-a2)\n",
    "        yf=a1*xf+b1\n",
    "        if xf<max(min(x0,x1), min(x2,x)) or xf>min(max(x0,x1), max(x2,x)):\n",
    "            return False\n",
    "        if yf<max(min(y0,y1), min(y2,y)) or yf>min(max(y0,y1), max(y2,y)):\n",
    "            return False\n",
    "        return True\n",
    "        \n",
    "\n",
    "\n",
    "def level_curve_optimized(f, x0, y0, delta=0.1, N=1000, eps=eps):\n",
    "    a,b=x0,y0\n",
    "    def F(x,y):\n",
    "        return np.array([f(x,y)-c,(x-a)**2+(y-b)**2-delta**2])\n",
    "    tableau=np.zeros((2,N),float)\n",
    "    tableau[0][0],tableau[1][0]=x0,y0\n",
    "    etapes=0\n",
    "    intersection = False\n",
    "    while etapes<N-1 and intersection==False :\n",
    "        a,b=x0,y0\n",
    "        #Initialisation pour une recherche \"à droite\"\n",
    "        x1,y1=(\n",
    "            x0+(1/numpy.linalg.norm(grad(f)(x0,y0)))*grad(f)(x0,y0)[1]*delta,\n",
    "            y0-(1/numpy.linalg.norm(grad(f)(x0,y0)))*grad(f)(x0,y0)[0]*delta\n",
    "        )\n",
    "        x1,y1=Newton(F,x1,y1,eps,100)\n",
    "        #Lancer le test si au moins 3 points dans le tableau\n",
    "        if etapes>2:\n",
    "            intersection = test_inter(tableau,etapes,x1,y1)\n",
    "        etapes+=1\n",
    "        tableau[0][etapes]=x1\n",
    "        tableau[1][etapes]=y1\n",
    "        #Vérification du point\n",
    "        p=(1/numpy.linalg.norm(grad(f)(x0,y0)))*(grad(f)(x0,y0)[1]*(x1-x0)-grad(f)(x0,y0)[0]*(y1-y0))\n",
    "        if p<=0:\n",
    "            return 'error'\n",
    "        x0,y0=x1,y1\n",
    "    x=tableau[0]\n",
    "    y=tableau[1]\n",
    "    plt.plot(x[:etapes],y[:etapes])\n",
    "    plt.show\n",
    "    return tableau[:etapes,:etapes],f\"Le nombre d'étapes est {etapes}:\""
   ]
  },
  {
   "cell_type": "markdown",
   "metadata": {},
   "source": [
    "Tâche 5\n",
    "=="
   ]
  },
  {
   "cell_type": "code",
   "execution_count": 10,
   "metadata": {},
   "outputs": [
    {
     "data": {
      "text/plain": [
       "(array([[ 2.        ,  1.92937515,  1.85925372,  1.79013294,  1.72255084,\n",
       "          1.65713913,  1.59468562,  1.53621433,  1.48308662,  1.43710927,\n",
       "          1.40058583,  1.37615163,  1.3661797 ,  1.37182804,  1.39242546,\n",
       "          1.42583951,  1.46942674,  1.52075934,  1.57789147,  1.63934757,\n",
       "          1.70402031,  1.77106485,  1.83981276,  1.9097054 ,  1.98023928,\n",
       "          2.05091402,  2.12116999,  2.19029187,  2.25722276,  2.32012679,\n",
       "          2.37510595,  2.41127493,  2.39443028,  2.31575943,  2.22027092,\n",
       "          2.12125028,  2.02136306,  1.92137468,  1.82157011,  1.72207805,\n",
       "          1.62296881,  1.52429015,  1.42608242,  1.32838599,  1.23124548,\n",
       "          1.13471278,  1.03884966,  0.94373054,  0.84944568,  0.75610511,\n",
       "          0.66384352,  0.57282665,  0.4832593 ,  0.39539559,  0.30955168,\n",
       "          0.22612119,  0.14559234,  0.06856467, -0.00424053, -0.07198655,\n",
       "         -0.13376057, -0.18866284, -0.23594908, -0.2751962 , -0.30642438,\n",
       "         -0.33010622, -0.34704485, -0.35816687, -0.36430201, -0.36600423,\n",
       "         -0.36344141, -0.35636326, -0.34414937, -0.32593441, -0.30079833,\n",
       "         -0.26798927, -0.2271193 , -0.17826206, -0.12191724, -0.05887355,\n",
       "          0.00995678,  0.08367083,  0.16145315,  0.24260707,  0.32655648,\n",
       "          0.41283349,  0.50106136,  0.59093747,  0.68221851,  0.77470826,\n",
       "          0.86824778,  0.96270774,  1.05798246,  1.15398513,  1.2506441 ,\n",
       "          1.34789977,  1.44570194,  1.5440071 ,  1.64277528,  1.74196541,\n",
       "          1.8415268 ,  1.94138141,  2.04138052,  2.14118249,  2.23982812,\n",
       "          2.33374894,  2.40428096,  2.4066855 ,  2.36511667,  2.30804708,\n",
       "          2.24412708,  2.17664777,  2.10723029,  2.03684058,  1.96615223,\n",
       "          1.89570692],\n",
       "        [ 1.        ,  0.9292036 ,  0.85790854,  0.78564295,  0.71193637,\n",
       "          0.63629703,  0.55819736,  0.47707333,  0.39235352,  0.30354992,\n",
       "          0.21045838,  0.11348949,  0.01398791, -0.08585254, -0.18370839,\n",
       "         -0.27796079, -0.36796167, -0.45378106, -0.53585371, -0.61474064,\n",
       "         -0.69101276, -0.76520865, -0.83782906, -0.90934841, -0.98023545,\n",
       "         -1.05098205, -1.12214453, -1.1944091 , -1.26870752, -1.34644479,\n",
       "         -1.42997488, -1.5232045 , -1.62177314, -1.68350704, -1.71320499,\n",
       "         -1.72716759, -1.73191616, -1.73039111, -1.72414221, -1.71407595,\n",
       "         -1.70075834, -1.68455582, -1.66570795, -1.64436767, -1.62062484,\n",
       "         -1.59452049, -1.5660554 , -1.53519517, -1.50187302, -1.46599076,\n",
       "         -1.42741875, -1.38599496, -1.34152373, -1.29377473, -1.24248317,\n",
       "         -1.18735285, -1.12806453, -1.06429356, -0.99574137, -0.92218543,\n",
       "         -0.84354721, -0.75996647, -0.67185286, -0.57987644, -0.48487749,\n",
       "         -0.3877221 , -0.28916713, -0.18978755, -0.08997593,  0.01000959,\n",
       "          0.10997674,  0.20972592,  0.30897723,  0.40730431,  0.50409366,\n",
       "          0.5985583 ,  0.68982521,  0.77707756,  0.85969272,  0.93731679,\n",
       "          1.0098591 ,  1.07743307,  1.14028138,  1.19871119,  1.25304808,\n",
       "          1.30360771,  1.35068045,  1.39452433,  1.43536268,  1.47338434,\n",
       "          1.50874476,  1.54156723,  1.57194367,  1.59993451,  1.62556739,\n",
       "          1.64883398,  1.6696843 ,  1.68801723,  1.70366477,  1.71636592,\n",
       "          1.72572158,  1.73111211,  1.7315346 ,  1.72524444,  1.70884208,\n",
       "          1.67450773,  1.60361883,  1.50364868,  1.41269804,  1.33058173,\n",
       "          1.25367767,  1.17987697,  1.10789631,  1.03686611,  0.96613312,\n",
       "          0.89515806]]),\n",
       " \"Le nombre d'étapes est 116:\")"
      ]
     },
     "execution_count": 10,
     "metadata": {},
     "output_type": "execute_result"
    },
    {
     "data": {
      "image/png": "[encoded data removed]",
      "text/plain": [
       "<Figure size 432x288 with 1 Axes>"
      ]
     },
     "metadata": {
      "needs_background": "light"
     },
     "output_type": "display_data"
    }
   ],
   "source": [
    "level_curve_optimized(f2,2.0,1.0)"
   ]
  },
  {
   "cell_type": "markdown",
   "metadata": {},
   "source": [
    "Question 8\n",
    "=="
   ]
  },
  {
   "cell_type": "markdown",
   "metadata": {},
   "source": [
    "Posons :  \n",
    "$P_1 = (x_{P1},y_{P1})$, $P_2 = (x_{P2},y_{P2})$, $u_1 = (v_1,w_1)$ et $u_2 = (v_2,w_2)$  \n",
    "\n",
    "$\\gamma'(0)$ et $u_1$ sont dans la même direction et le même sens donc :  \n",
    "$\\gamma'(0) = \\rho.u_1$ avec $\\rho \\in \\mathbb{R}^{+}$  \n",
    "De même pour $\\gamma'(1)$ et $u_2$:  \n",
    "$\\gamma'(1) = \\mu.u_2$ avec $\\mu \\in \\mathbb{R}^{+}$ \n",
    "\n",
    "On a :  \n",
    "$\\gamma(0) = P_1 = (x_{P1},y_{P1}) = (a,d)$  \n",
    "$\\gamma(1) = P_2 = (x_{P2},y_{P2}) = (a+b+c,d+e+f)$  \n",
    "$\\gamma'(0) = (b, e)$  \n",
    "$\\gamma'(1) = (b+2c, e+2f)$  \n",
    "\n",
    "Après résolution du système, on obtient :  \n",
    "$\\mu = 2.\\frac{(x_{P2}-x_{P1})w_1-(y_{P2}-y_{P1})v_1}{w_1v_2-w_2v_1}$  \n",
    "$\\rho = 2.\\frac{(x_{P2}-x_{P1})w_2-(y_{P2}-y_{P1})v_2}{v_1w_2-v_2w_1}$  \n",
    "\n",
    "Les conditions à respecter sont :\n",
    "$\\rho > 0$ et $\\mu > 0$ pour avoir $\\gamma'(0)$ et $u_1$ ainsi que $\\gamma'(1)$ et $u_2$ dans le même sens."
   ]
  },
  {
   "cell_type": "markdown",
   "metadata": {},
   "source": [
    "Tâche 6\n",
    "=="
   ]
  },
  {
   "cell_type": "code",
   "execution_count": 11,
   "metadata": {},
   "outputs": [],
   "source": [
    "def gamma(t,P1,P2,u1,u2):\n",
    "    xp1, yp1 = P1\n",
    "    xp2, yp2 = P2\n",
    "    v1, w1 = u1\n",
    "    v2, w2 = u2\n",
    "    rho = (2*(w2*(xp2-xp1)-v2*(yp2-yp1)))/((v1*w2)-(v2*w1))\n",
    "    mu = (2*(w1*(xp2-xp1)-v1*(yp2-yp1)))/(v2*w1-v1*w2)\n",
    "    a=xp1\n",
    "    b=rho*v1\n",
    "    c=0.5*(mu*v2-rho*v1)\n",
    "    d=yp1\n",
    "    e=rho*w1\n",
    "    f=0.5*(mu*w2-rho*w1)\n",
    "    #Conditions\n",
    "    I=np.ones(len(t))\n",
    "    if mu>0 and rho>0:\n",
    "        return np.array([a*I + b*t + c*t*t, d*I + e*t + f*t*t])\n",
    "    else:\n",
    "        return np.array([(xp2-xp1)*np.linspace(0,1,len(t))+xp1,(yp2-yp1)*np.linspace(0,1,len(t))+yp1])"
   ]
  },
  {
   "cell_type": "markdown",
   "metadata": {},
   "source": [
    "Tâche 7\n",
    "=="
   ]
  },
  {
   "cell_type": "markdown",
   "metadata": {},
   "source": [
    "Les vecteurs $u_1$ et $u_2$ sont les vecteurs gradients après rotation de $-\\frac{\\pi}{2}$ aux points $P_1$ et $P_2$,\n",
    "car la droite tangente à une courbe en point est orthogonal au gradient en ce point.  \n",
    "La norme de $u_1$ et de $u_2$ n'importe pas."
   ]
  },
  {
   "cell_type": "code",
   "execution_count": 12,
   "metadata": {},
   "outputs": [],
   "source": [
    "#En commentaire, les modifications par rapport à level_curve_optimized\n",
    "\n",
    "def new_level_curve(f, x0, y0, oversampling, delta = 0.1, N=1000, eps=eps):\n",
    "    a,b=x0,y0\n",
    "    def F(x,y):\n",
    "        return np.array([f(x,y)-c,(x-a)**2+(y-b)**2-delta**2])\n",
    "    #Tableau élargi\n",
    "    tableau=np.zeros((2,N*oversampling),float)\n",
    "    tableau[0][0],tableau[1][0]=x0,y0\n",
    "    etapes=0\n",
    "    intersection = False\n",
    "    while etapes<N-1 and intersection==False :\n",
    "        a,b=x0,y0\n",
    "        x1,y1=x0+(1/numpy.linalg.norm(grad(f)(x0,y0)))*grad(f)(x0,y0)[1]*delta,y0-(1/numpy.linalg.norm(grad(f)(x0,y0)))*grad(f)(x0,y0)[0]*delta\n",
    "        x1,y1=Newton(F,x1,y1,eps,100)\n",
    "        if etapes>2:\n",
    "            intersection = test_inter(tableau,etapes*oversampling,x1,y1)\n",
    "        #Interpolation avec le nouveau point obtenu\n",
    "        if oversampling>1:\n",
    "            u1=(grad(f)(x0,y0)[1],-grad(f)(x0,y0)[0])\n",
    "            u2=(grad(f)(x1,y1)[1],-grad(f)(x1,y1)[0])\n",
    "            tableau[:,etapes*oversampling:(etapes+1)*oversampling+1] = (\n",
    "                gamma(np.linspace(0,1,oversampling+1),(x0,y0),(x1,y1),u1,u2)\n",
    "            )\n",
    "        etapes+=1\n",
    "        p=((1/numpy.linalg.norm(grad(f)(x0,y0)))**(-1))*(grad(f)(x0,y0)[1]*(x1-x0)-grad(f)(x0,y0)[0]*(y1-y0))\n",
    "        if p<=0:\n",
    "            return 'error'\n",
    "        x0,y0=x1,y1\n",
    "    x=tableau[0]\n",
    "    y=tableau[1]\n",
    "    plt.plot(x[:(etapes)*oversampling],y[:(etapes)*oversampling])\n",
    "    plt.show()\n",
    "    return (\n",
    "        tableau[:,:(etapes)*oversampling],\n",
    "        f\"Le nombre d'étapes est : {etapes+1}\",\n",
    "        f\"Le nombre de points est : {(etapes+1)*oversampling}\"\n",
    "    )"
   ]
  },
  {
   "cell_type": "markdown",
   "metadata": {},
   "source": [
    "Tâche 8\n",
    "=="
   ]
  },
  {
   "cell_type": "code",
   "execution_count": 13,
   "metadata": {},
   "outputs": [
    {
     "data": {
      "image/png": "[encoded data removed]",
      "text/plain": [
       "<Figure size 432x288 with 1 Axes>"
      ]
     },
     "metadata": {
      "needs_background": "light"
     },
     "output_type": "display_data"
    },
    {
     "data": {
      "text/plain": [
       "(array([[2.        , 1.98215301, 1.96616703, ..., 1.9378444 , 1.92375146,\n",
       "         1.91064577],\n",
       "        [1.        , 0.98214615, 0.96613958, ..., 0.93772298, 0.92353182,\n",
       "         0.91029803]]),\n",
       " \"Le nombre d'étapes est : 343\",\n",
       " 'Le nombre de points est : 1715')"
      ]
     },
     "execution_count": 13,
     "metadata": {},
     "output_type": "execute_result"
    }
   ],
   "source": [
    "new_level_curve(f2, 2.0, 1.0, 5)"
   ]
  },
  {
   "cell_type": "code",
   "execution_count": 14,
   "metadata": {},
   "outputs": [
    {
     "data": {
      "image/png": "[encoded data removed]",
      "text/plain": [
       "<Figure size 432x288 with 1 Axes>"
      ]
     },
     "metadata": {
      "needs_background": "light"
     },
     "output_type": "display_data"
    },
    {
     "data": {
      "image/png": "[encoded data removed]",
      "text/plain": [
       "<Figure size 432x288 with 2 Axes>"
      ]
     },
     "metadata": {
      "needs_background": "light"
     },
     "output_type": "display_data"
    }
   ],
   "source": [
    "def zoom(start,points,oversampling):\n",
    "    plt.title('Figure générale')\n",
    "    Tableau = new_level_curve(f2, 2.0, 1.0, oversampling)[0]\n",
    "    x1,y1 = Tableau[:,start*oversampling:start*oversampling+points*oversampling:oversampling]\n",
    "    x2,y2 = Tableau[:,start*oversampling:start*oversampling+(points-1)*oversampling+1]\n",
    "    figure, axes = plt.subplots(1,2)\n",
    "    \n",
    "    figure.suptitle('Zoom')\n",
    "    axes[0].set_title('Sans interpolation')\n",
    "    axes[0].plot(x1,y1)\n",
    "    axes[1].set_title('Avec interpolation')\n",
    "    axes[1].plot(x2,y2)\n",
    "    \n",
    "    plt.show()\n",
    "    \n",
    "zoom(105,4,5)"
   ]
  }
 ],
 "metadata": {
  "kernelspec": {
   "display_name": "Python 3",
   "language": "python",
   "name": "python3"
  },
  "language_info": {
   "codemirror_mode": {
    "name": "ipython",
    "version": 3
   },
   "file_extension": ".py",
   "mimetype": "text/x-python",
   "name": "python",
   "nbconvert_exporter": "python",
   "pygments_lexer": "ipython3",
   "version": "3.7.3"
  }
 },
 "nbformat": 4,
 "nbformat_minor": 4
}
